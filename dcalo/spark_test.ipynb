{
 "cells": [
  {
   "cell_type": "code",
   "execution_count": 8,
   "metadata": {
    "collapsed": true
   },
   "outputs": [],
   "source": [
    ""
   ]
  },
  {
   "cell_type": "code",
   "execution_count": 8,
   "metadata": {},
   "outputs": [],
   "source": []
  },
  {
   "cell_type": "code",
   "execution_count": 18,
   "metadata": {},
   "outputs": [],
   "source": [
    ""
   ]
  },
  {
   "cell_type": "code",
   "execution_count": 15,
   "metadata": {},
   "outputs": [],
   "source": [
    ""
   ]
  },
  {
   "cell_type": "code",
   "execution_count": 27,
   "metadata": {},
   "outputs": [
    {
     "name": "stdout",
     "output_type": "stream",
     "text": [
      "     clase    tipo  valor\n0  clase 1  tipo 1      0\n1  clase 1  tipo 1      1\n2  clase 1  tipo 2      2\n3  clase 1  tipo 2      3\n4  clase 1  tipo 2      4\n5  clase 2  tipo 3      5\n6  clase 2  tipo 3      6\n7  clase 2  tipo 4      7\n8  clase 2  tipo 4      8\n9  clase 2  tipo 4      9\n     clase    tipo  valor\n0  clase 1  tipo 1      0\n1  clase 1  tipo 1      1\n2  clase 1  tipo 2      2\n3  clase 1  tipo 2      3\n4  clase 1  tipo 2      4\nclase    clase 1\ntipo      tipo 1\nvalor          1\nName: 1, dtype: object\nclase    clase 1\ntipo      tipo 1\nvalor          1\nName: 1, dtype: object\n0    clase 1\n1    clase 1\n2    clase 1\n3    clase 1\n4    clase 1\n5    clase 2\n6    clase 2\n7    clase 2\n8    clase 2\n9    clase 2\nName: clase, dtype: object\n     clase    tipo\n0  clase 1  tipo 1\n1  clase 1  tipo 1\n2  clase 1  tipo 2\n3  clase 1  tipo 2\n4  clase 1  tipo 2\n5  clase 2  tipo 3\n6  clase 2  tipo 3\n7  clase 2  tipo 4\n8  clase 2  tipo 4\n9  clase 2  tipo 4\nvalor    4.5\ndtype: float64\n         valor\nclase         \nclase 1     10\nclase 2     35\n         tipo  valor\nclase               \nclase 1     5      5\nclase 2     5      5\n['clase 1', 'clase 1', 'clase 1', 'clase 1', 'clase 1', 'clase 2', 'clase 2', 'clase 2', 'clase 2', 'clase 2']\n     clase    tipo  valor\n2  clase 1  tipo 2      2\n3  clase 1  tipo 2      3\n4  clase 1  tipo 2      4\n0  clase 1  tipo 1      0\n1  clase 1  tipo 1      1\n7  clase 2  tipo 4      7\n8  clase 2  tipo 4      8\n9  clase 2  tipo 4      9\n5  clase 2  tipo 3      5\n6  clase 2  tipo 3      6\n      clase    tipo  valor\n0   clase 1  tipo 1      0\n1   clase 1  tipo 1      1\n2   clase 1  tipo 2      2\n3   clase 1  tipo 2      3\n4   clase 1  tipo 2      4\n5   clase 2  tipo 3      5\n6   clase 2  tipo 3      6\n7   clase 2  tipo 4      7\n8   clase 2  tipo 4      8\n9   clase 2  tipo 4      9\n10  clase 1  tipo 1      1\n11  clase 1  tipo 1      1\n     clase    tipo  valor\n0  clase 1  tipo 1      0\n1  clase 1  tipo 1      1\n2  clase 1  tipo 2      2\n3  clase 1  tipo 2      3\n4  clase 1  tipo 2      4\n5  clase 2  tipo 3      5\n6  clase 2  tipo 3      6\n7  clase 2  tipo 4      7\n8  clase 2  tipo 4      8\n9  clase 2  tipo 4      9\n"
     ]
    }
   ],
   "source": [
    "import pandas as pd\n",
    "data = pd.DataFrame(columns=('order', 'family', 'num', 'sequence'))\n",
    "\n",
    "data.loc[len(data)]=['Tymovirales','Alphaflexiviridae',1,'AACGTTAAUGGUGAA'] \n",
    "data.loc[len(data)]=['Tymovirales','Alphaflexiviridae',2,'AACGTTAAUGGUGAA']\n",
    "clases = [\"clase 1\"] * 5 + [\"clase 2\"] * 5\n",
    "tipos = [\"tipo 1\"] * 2 + [\"tipo 2\"] * 3 + [\"tipo 3\"] * 2 + [\"tipo 4\"] * 3\n",
    "valores = [0,1,2,3,4] + [5,6,7,8,9]\n",
    "df = pd.DataFrame({\"clase\": clases, \"tipo\": tipos, \"valor\": valores})\n",
    "print(df)\n",
    "#five element \n",
    "print(df[:5])\n",
    "# one element\n",
    "print(df.loc[1])\n",
    "print(df.iloc[1])\n",
    "# select clase\n",
    "print(df['clase'])\n",
    "print(df[['clase','tipo']])\n",
    "# media\n",
    "print(df.mean())\n",
    "\n",
    "# suma de valores\n",
    "print(df.groupby('clase').sum())\n",
    " # contando valores nulos o ignorados\n",
    "print(df.groupby('clase').count())\n",
    "\n",
    "# columna a fila o lista\n",
    "print(df['clase'].tolist())\n",
    "# orderin values  clase ascendente tipo descendente\n",
    "\n",
    "print(df.sort_values(by=['clase','tipo'], ascending=[True,False]))\n",
    "\n",
    "# borrando duplicados\n",
    "df.loc[len(df)]=['clase 1','tipo 1',1]\n",
    "df.loc[len(df)]=['clase 1','tipo 1',1]\n",
    "print(df)\n",
    "print(df.drop_duplicates())\n",
    "\n",
    "\n",
    "# eliminar duplicados en una columna como lista\n",
    "print(df['clase'].drop_duplicates().values.tolist())\n",
    "\n",
    "#remplazar elementos para todos los campos de una columna\n",
    "df['clase'] = df['clase'].replace({' ': ''}, regex=True)\n",
    "print(df)\n",
    "\n",
    "#remplazar  columnas en dataframe\n",
    "df = df.replace({' ': ''}, regex=True)\n",
    "print(df)\n",
    "\n",
    "#  filtrando valores por columnas\n",
    "df2 = df[df['tipo'] == 'tipo1']\n",
    "print(df2)\n",
    "\n",
    "# filtrando valores por columnas  concretas data frame\n",
    "df2 = df.filter(items=['clase', 'valor'])\n",
    "print(df2)\n",
    "\n",
    "#Filtar por valores de una columna que pertenezcan a un conjunto de datos\n",
    "df2 = df[df['valor'].isin([3,6])]\n",
    "print(df2)\n",
    "\n",
    "#Filtar por valores que cumpla una condición\n",
    "df2 = df[df['valor'] > 6]\n",
    "print(df2)\n",
    "\n",
    "#Unión de dos data frames por columna\n",
    "df1 = pd.DataFrame({'A1': ['A0', 'A1', 'A2', 'A3'],\n",
    "'B1': ['B11', 'B12', 'B13', 'B14'],\n",
    "'C1': ['C11', 'C12', 'C13', 'C14']})\n",
    "df2 = pd.DataFrame({'A2': ['A0', 'A2', 'A2', 'A4'],\n",
    "'B2': ['B21', 'B22', 'B23', 'B24'],\n",
    "'C2': ['C21', 'C22', 'C23', 'C24']})\n",
    "result = df1.merge(df2, left_on='A1', right_on='A2', how='outer')\n",
    "print(result)"
   ]
  },
  {
   "cell_type": "code",
   "execution_count": null,
   "metadata": {},
   "outputs": [],
   "source": []
  }
 ],
 "metadata": {
  "kernelspec": {
   "display_name": "Python 2",
   "language": "python",
   "name": "python2"
  },
  "language_info": {
   "codemirror_mode": {
    "name": "ipython",
    "version": 2
   },
   "file_extension": ".py",
   "mimetype": "text/x-python",
   "name": "python",
   "nbconvert_exporter": "python",
   "pygments_lexer": "ipython2",
   "version": "2.7.6"
  }
 },
 "nbformat": 4,
 "nbformat_minor": 0
}
